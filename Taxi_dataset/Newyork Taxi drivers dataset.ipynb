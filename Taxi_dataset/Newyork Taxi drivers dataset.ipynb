{
 "cells": [
  {
   "cell_type": "code",
   "execution_count": 1,
   "id": "9afc9730",
   "metadata": {},
   "outputs": [],
   "source": [
    "import numpy as np"
   ]
  },
  {
   "cell_type": "code",
   "execution_count": 7,
   "id": "e3938f36",
   "metadata": {},
   "outputs": [],
   "source": [
    "taxi_data = np.genfromtxt('Taxi_dataset/nyc_taxis.csv', delimiter=',', skip_header = True)"
   ]
  },
  {
   "cell_type": "code",
   "execution_count": 10,
   "id": "38cc018f",
   "metadata": {},
   "outputs": [
    {
     "data": {
      "text/plain": [
       "(89560, 15)"
      ]
     },
     "execution_count": 10,
     "metadata": {},
     "output_type": "execute_result"
    }
   ],
   "source": [
    "taxi_data.shape"
   ]
  },
  {
   "cell_type": "code",
   "execution_count": 11,
   "id": "200b74cf",
   "metadata": {},
   "outputs": [
    {
     "data": {
      "text/plain": [
       "89560"
      ]
     },
     "execution_count": 11,
     "metadata": {},
     "output_type": "execute_result"
    }
   ],
   "source": [
    "taxi_data.shape[0] # total number of riders"
   ]
  },
  {
   "cell_type": "code",
   "execution_count": 13,
   "id": "efdebba4",
   "metadata": {},
   "outputs": [
    {
     "name": "stdout",
     "output_type": "stream",
     "text": [
      "[[2.016e+03 1.000e+00 1.000e+00 ... 1.165e+01 6.999e+01 1.000e+00]\n",
      " [2.016e+03 1.000e+00 1.000e+00 ... 8.000e+00 5.430e+01 1.000e+00]\n",
      " [2.016e+03 1.000e+00 1.000e+00 ... 0.000e+00 3.780e+01 2.000e+00]\n",
      " ...\n",
      " [2.016e+03 6.000e+00 3.000e+01 ... 5.000e+00 6.334e+01 1.000e+00]\n",
      " [2.016e+03 6.000e+00 3.000e+01 ... 8.950e+00 4.475e+01 1.000e+00]\n",
      " [2.016e+03 6.000e+00 3.000e+01 ... 0.000e+00 5.484e+01 2.000e+00]]\n"
     ]
    }
   ],
   "source": [
    "print(taxi_data)"
   ]
  },
  {
   "cell_type": "code",
   "execution_count": 14,
   "id": "c967ea62",
   "metadata": {},
   "outputs": [
    {
     "data": {
      "text/plain": [
       "1343400"
      ]
     },
     "execution_count": 14,
     "metadata": {},
     "output_type": "execute_result"
    }
   ],
   "source": [
    "taxi_data.size"
   ]
  },
  {
   "cell_type": "code",
   "execution_count": 15,
   "id": "ba01dfc9",
   "metadata": {},
   "outputs": [
    {
     "data": {
      "text/plain": [
       "dtype('float64')"
      ]
     },
     "execution_count": 15,
     "metadata": {},
     "output_type": "execute_result"
    }
   ],
   "source": [
    "taxi_data.dtype"
   ]
  },
  {
   "cell_type": "code",
   "execution_count": 16,
   "id": "dbdba513",
   "metadata": {},
   "outputs": [
    {
     "data": {
      "text/plain": [
       "array([11.65,  8.  ,  0.  , ...,  5.  ,  8.95,  0.  ])"
      ]
     },
     "execution_count": 16,
     "metadata": {},
     "output_type": "execute_result"
    }
   ],
   "source": [
    "taxi_data[:, 12]"
   ]
  },
  {
   "cell_type": "code",
   "execution_count": 18,
   "id": "d70a0704",
   "metadata": {},
   "outputs": [
    {
     "data": {
      "text/plain": [
       "5.81"
      ]
     },
     "execution_count": 18,
     "metadata": {},
     "output_type": "execute_result"
    }
   ],
   "source": [
    "round(taxi_data[:, 12].mean(), 2)"
   ]
  },
  {
   "cell_type": "code",
   "execution_count": 20,
   "id": "86dca697",
   "metadata": {},
   "outputs": [
    {
     "data": {
      "text/plain": [
       "'5.81'"
      ]
     },
     "execution_count": 20,
     "metadata": {},
     "output_type": "execute_result"
    }
   ],
   "source": [
    "\"{:.2f}\".format(taxi_data[:, 12].mean())"
   ]
  },
  {
   "cell_type": "code",
   "execution_count": 26,
   "id": "b345fe9f",
   "metadata": {},
   "outputs": [],
   "source": [
    "tip_amount = taxi_data[:, 12]"
   ]
  },
  {
   "cell_type": "code",
   "execution_count": 27,
   "id": "368e498e",
   "metadata": {},
   "outputs": [],
   "source": [
    "fifty = tip_amount > 50"
   ]
  },
  {
   "cell_type": "code",
   "execution_count": 28,
   "id": "20085ca3",
   "metadata": {},
   "outputs": [
    {
     "data": {
      "text/plain": [
       "array([ 52.8 ,  60.  ,  59.34,  80.  ,  70.  ,  60.  ,  55.  ,  65.  ,\n",
       "        80.  ,  62.  , 100.  ,  58.  ,  62.  ,  75.7 ,  60.  ,  70.  ])"
      ]
     },
     "execution_count": 28,
     "metadata": {},
     "output_type": "execute_result"
    }
   ],
   "source": [
    "tip_amount[fifty]"
   ]
  },
  {
   "cell_type": "code",
   "execution_count": 29,
   "id": "8bb7a446",
   "metadata": {},
   "outputs": [],
   "source": [
    "online_payments = taxi_data[:, -1] == 1"
   ]
  },
  {
   "cell_type": "code",
   "execution_count": 30,
   "id": "788dd289",
   "metadata": {},
   "outputs": [
    {
     "data": {
      "text/plain": [
       "64356"
      ]
     },
     "execution_count": 30,
     "metadata": {},
     "output_type": "execute_result"
    }
   ],
   "source": [
    "online_payments.sum()"
   ]
  },
  {
   "cell_type": "code",
   "execution_count": 31,
   "id": "cf70fa06",
   "metadata": {},
   "outputs": [],
   "source": [
    "cash_payments = taxi_data[:, -1] == 2"
   ]
  },
  {
   "cell_type": "code",
   "execution_count": 32,
   "id": "a4af8e0d",
   "metadata": {},
   "outputs": [
    {
     "data": {
      "text/plain": [
       "24520"
      ]
     },
     "execution_count": 32,
     "metadata": {},
     "output_type": "execute_result"
    }
   ],
   "source": [
    "cash_payments.sum()"
   ]
  },
  {
   "cell_type": "code",
   "execution_count": 33,
   "id": "d3d343b4",
   "metadata": {},
   "outputs": [
    {
     "data": {
      "text/plain": [
       "182.9"
      ]
     },
     "execution_count": 33,
     "metadata": {},
     "output_type": "execute_result"
    }
   ],
   "source": [
    "taxi_data[:, 7].max()"
   ]
  },
  {
   "cell_type": "code",
   "execution_count": 36,
   "id": "130fd964",
   "metadata": {},
   "outputs": [
    {
     "data": {
      "text/plain": [
       "array([2.5])"
      ]
     },
     "execution_count": 36,
     "metadata": {},
     "output_type": "execute_result"
    }
   ],
   "source": [
    "max_distance = taxi_data[:, 7]\n",
    "maximum_distance = max(max_distance)\n",
    "index_of = np.where(max_distance == 182.9)\n",
    "fare_amount = taxi_data[:,9]\n",
    "fare_amount[index_of]"
   ]
  },
  {
   "cell_type": "code",
   "execution_count": null,
   "id": "97d496f1",
   "metadata": {},
   "outputs": [],
   "source": []
  }
 ],
 "metadata": {
  "kernelspec": {
   "display_name": "bobbykernal",
   "language": "python",
   "name": "bobbykernal"
  },
  "language_info": {
   "codemirror_mode": {
    "name": "ipython",
    "version": 3
   },
   "file_extension": ".py",
   "mimetype": "text/x-python",
   "name": "python",
   "nbconvert_exporter": "python",
   "pygments_lexer": "ipython3",
   "version": "3.10.6"
  }
 },
 "nbformat": 4,
 "nbformat_minor": 5
}
